{
 "cells": [
  {
   "cell_type": "markdown",
   "metadata": {},
   "source": [
    "# How to know what data is traveling?"
   ]
  },
  {
   "cell_type": "code",
   "execution_count": null,
   "metadata": {},
   "outputs": [],
   "source": [
    "def get_flat_indicators_estimated(administrative_levels: pd.DataFrame) -> pd.DataFrame:\n",
    "    df = get_table_from_db(\"flat_indicators_estimated\", settings.FLAT_INDICATORS_ESTIMATED_DB)\n",
    "    df = df.merge(administrative_levels, left_on=\"Region\", right_on=\"Regionas\", how=\"left\")\n",
    "    df = df.drop([\"Regionas\"], axis=1)\n",
    "    df = df.rename(columns={\"Lygis\": \"Level\"})\n",
    "    df = df.astype({\"Level\": int})\n",
    "    return df\n"
   ]
  },
  {
   "cell_type": "code",
   "execution_count": null,
   "metadata": {},
   "outputs": [],
   "source": [
    "class FlatIndicatorsSchema(SchemaModel):\n",
    "    idx: Index[int] = Field(ge=0)\n",
    "    Region: Series[str] = Field()\n",
    "    Date: Series[datetime] = Field(coerce=True)\n",
    "    Variable: Series[str] = Field()\n",
    "    Value: Series[float] = Field(ge=0)\n",
    "    Level: Series[int] = Field(ge=1, le=4)\n",
    "\n",
    "\n",
    "@check_types\n",
    "def get_flat_indicators_estimated(administrative_levels: pd.DataFrame) -> DataFrame[FlatIndicatorsSchema]:\n",
    "    df = get_table_from_db(\"flat_indicators_estimated\", settings.FLAT_INDICATORS_ESTIMATED_DB)\n",
    "    df = df.merge(administrative_levels, left_on=\"Region\", right_on=\"Regionas\", how=\"left\")\n",
    "    df = df.drop([\"Regionas\"], axis=1)\n",
    "    df = df.rename(columns={\"Lygis\": \"Level\"})\n",
    "    # df = df.astype({\"Level\": int})\n",
    "    return df\n"
   ]
  },
  {
   "cell_type": "code",
   "execution_count": null,
   "metadata": {},
   "outputs": [],
   "source": []
  },
  {
   "cell_type": "code",
   "execution_count": null,
   "metadata": {},
   "outputs": [],
   "source": []
  }
 ],
 "metadata": {
  "kernelspec": {
   "display_name": ".venv",
   "language": "python",
   "name": "python3"
  },
  "language_info": {
   "codemirror_mode": {
    "name": "ipython",
    "version": 3
   },
   "file_extension": ".py",
   "mimetype": "text/x-python",
   "name": "python",
   "nbconvert_exporter": "python",
   "pygments_lexer": "ipython3",
   "version": "3.9.13"
  }
 },
 "nbformat": 4,
 "nbformat_minor": 2
}
